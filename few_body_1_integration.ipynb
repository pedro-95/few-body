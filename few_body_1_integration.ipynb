{
 "cells": [
  {
   "cell_type": "code",
   "execution_count": 1,
   "metadata": {},
   "outputs": [],
   "source": [
    "import numpy as np\n",
    "import matplotlib.pyplot as plt\n",
    "from numpy.random import seed\n",
    "from numpy.random import rand\n",
    "from numpy.random import randn\n",
    "from numpy.linalg import norm\n",
    "import pylab \n",
    "import scipy.stats as stats"
   ]
  },
  {
   "cell_type": "code",
   "execution_count": 2,
   "metadata": {},
   "outputs": [],
   "source": [
    "%load_ext autoreload"
   ]
  },
  {
   "cell_type": "code",
   "execution_count": 3,
   "metadata": {},
   "outputs": [],
   "source": [
    "%autoreload 1"
   ]
  },
  {
   "cell_type": "code",
   "execution_count": 4,
   "metadata": {},
   "outputs": [],
   "source": [
    "%aimport few_body"
   ]
  },
  {
   "cell_type": "code",
   "execution_count": 5,
   "metadata": {},
   "outputs": [],
   "source": [
    "%aimport Block_Boostrap"
   ]
  },
  {
   "cell_type": "code",
   "execution_count": 6,
   "metadata": {},
   "outputs": [],
   "source": [
    "from few_body import GreenFunctionMonteCarlo\n",
    "from few_body import SquaredWell\n",
    "from few_body import GaussianWell\n",
    "from few_body import ExponentialWell"
   ]
  },
  {
   "cell_type": "code",
   "execution_count": 7,
   "metadata": {},
   "outputs": [],
   "source": [
    "from Block_Boostrap import SimpleBlockBootstrap\n",
    "from Block_Boostrap import Bootstrap\n",
    "from Block_Boostrap import DataBlocking\n",
    "from Block_Boostrap import Autocorrelation, AutocorrelationNormalized"
   ]
  },
  {
   "cell_type": "markdown",
   "metadata": {},
   "source": [
    "# Triton Problem"
   ]
  },
  {
   "cell_type": "code",
   "execution_count": 12,
   "metadata": {},
   "outputs": [],
   "source": [
    "N = 3                                  # Number of Nuclei Particles\n",
    "B_t = 8.49                             # Binding energy of the Triton in MeV\n",
    "c = 2.998e+10                          # Speed of Light in cm/s\n",
    "M = 938.272081                         # Mass of Proton in MeV/c²\n",
    "hbar = 6.5821196e-22                   # h bar constant in MeV*s\n",
    "R_t = hbar / (2*(M/c**2)*B_t)**(1/2)   # Unit of length in cm"
   ]
  },
  {
   "cell_type": "code",
   "execution_count": 13,
   "metadata": {},
   "outputs": [
    {
     "name": "stdout",
     "output_type": "stream",
     "text": [
      "i =  2000   Size =  6178   Sum(W[i]) =  1999.0   =>  landa[i] =  3.0905452726363186\r"
     ]
    }
   ],
   "source": [
    "b_r = 1.35                             # Range parameter normalized to R: b_r = b / R (b_r has no units)\n",
    "b = b_r * R_t                          # Range paramter in cm\n",
    "Niter = 2000                            # Number of iterations in our calculation\n",
    "\n",
    "landa_0 = 20                           # Initial parameter that must be high enough to increase the point number\n",
    "Nthreshold = 4000                      # Threshold value for the number of R points to change landa_0 in the loop\n",
    "output = 1                             # Do you want to see more of the integration? Then set to 1\n",
    "\n",
    "landa_1 = GreenFunctionMonteCarlo(N, SquaredWell, b_r, landa_0, Niter, Nthreshold, output)\n",
    "np.savetxt(\"samples/landa_1\", landa_1)"
   ]
  },
  {
   "cell_type": "code",
   "execution_count": 14,
   "metadata": {},
   "outputs": [
    {
     "name": "stdout",
     "output_type": "stream",
     "text": [
      "The mean obtained for landa is:  3.0960709155716803 +- 0.0024687961995610297\n"
     ]
    }
   ],
   "source": [
    "landa_mean_1, landa_error_1 = SimpleBlockBootstrap(landa_1)\n",
    "print (\"The mean obtained for landa is: \", landa_mean_1 , \"+-\", landa_error_1)"
   ]
  },
  {
   "cell_type": "code",
   "execution_count": 16,
   "metadata": {},
   "outputs": [
    {
     "name": "stdout",
     "output_type": "stream",
     "text": [
      "i =  2000   Size =  3640   Sum(W[i]) =  1455.0   =>  landa[i] =  2.5017182130584192 1444.0   =>  landa[i] =  2.5145429362880884\r"
     ]
    }
   ],
   "source": [
    "b_r = 1.5477                           # Range parameter normalized to R: b_r = b / R (b_r has no units)\n",
    "b = b_r * R_t                          # Range paramter in cm\n",
    "Niter = 2000                            # Number of iterations in our calculation\n",
    "\n",
    "landa_0 = 16                           # Initial parameter that must be high enough to increase the point number\n",
    "Nthreshold = 4000                      # Threshold value for the number of R points to change landa_0 in the loop\n",
    "output = 1                             # Do you want to see more of the integration? Then set to 1\n",
    "\n",
    "landa_2 = GreenFunctionMonteCarlo(N, SquaredWell, b_r, landa_0, Niter, Nthreshold, output)\n",
    "np.savetxt(\"samples/landa_2\", landa_2)"
   ]
  },
  {
   "cell_type": "code",
   "execution_count": 17,
   "metadata": {},
   "outputs": [
    {
     "name": "stdout",
     "output_type": "stream",
     "text": [
      "The mean obtained for landa is:  2.512367105354336 +- 0.0021183605509286396\n"
     ]
    }
   ],
   "source": [
    "landa_mean_2, landa_error_2 = SimpleBlockBootstrap(landa_2)\n",
    "print (\"The mean obtained for landa is: \", landa_mean_2 , \"+-\", landa_error_2)"
   ]
  },
  {
   "cell_type": "code",
   "execution_count": 18,
   "metadata": {},
   "outputs": [
    {
     "name": "stdout",
     "output_type": "stream",
     "text": [
      "i =  2000   Size =  6150   Sum(W[i]) =  3494.0   =>  landa[i] =  1.7601602747567258\r"
     ]
    }
   ],
   "source": [
    "b_r = 2.0                              # Range parameter normalized to R: b_r = b / R (b_r has no units)\n",
    "b = b_r * R_t                          # Range paramter in cm\n",
    "Niter = 2000                            # Number of iterations in our calculation\n",
    "\n",
    "landa_0 = 13                           # Initial parameter that must be high enough to increase the point number\n",
    "Nthreshold = 4000                      # Threshold value for the number of R points to change landa_0 in the loop\n",
    "output = 1                             # Do you want to see more of the integration? Then set to 1\n",
    "\n",
    "landa_3 = GreenFunctionMonteCarlo(N, SquaredWell, b_r, landa_0, Niter, Nthreshold, output)\n",
    "np.savetxt(\"samples/landa_3\", landa_3)"
   ]
  },
  {
   "cell_type": "code",
   "execution_count": 19,
   "metadata": {},
   "outputs": [
    {
     "name": "stdout",
     "output_type": "stream",
     "text": [
      "The mean obtained for landa is:  1.7274923410079956 +- 0.0011185525338090869\n"
     ]
    }
   ],
   "source": [
    "landa_mean_3, landa_error_3 = SimpleBlockBootstrap(landa_3)\n",
    "print (\"The mean obtained for landa is: \", landa_mean_3 , \"+-\", landa_error_3)"
   ]
  },
  {
   "cell_type": "code",
   "execution_count": 24,
   "metadata": {},
   "outputs": [
    {
     "name": "stdout",
     "output_type": "stream",
     "text": [
      "i =  2000   Size =  10310   Sum(W[i]) =  1578.3639645388487   =>  landa[i] =  6.5320801992665095\r"
     ]
    }
   ],
   "source": [
    "b_r = 1.35                             # Range parameter normalized to R: b_r = b / R (b_r has no units)\n",
    "b = b_r * R_t                          # Range paramter in cm\n",
    "Niter = 2000                            # Number of iterations in our calculation\n",
    "\n",
    "landa_0 = 15                           # Initial parameter that must be high enough to increase the point number\n",
    "Nthreshold = 5000                      # Threshold value for the number of R points to change landa_0 in the loop\n",
    "output = 1                             # Do you want to see more of the integration? Then set to 1\n",
    "\n",
    "landa_4 = GreenFunctionMonteCarlo(N, GaussianWell, b_r, landa_0, Niter, Nthreshold, output)\n",
    "np.savetxt(\"samples/landa_4\", landa_4)"
   ]
  },
  {
   "cell_type": "code",
   "execution_count": 25,
   "metadata": {},
   "outputs": [
    {
     "name": "stdout",
     "output_type": "stream",
     "text": [
      "The mean obtained for landa is:  6.739137882130078 +- 0.006861659031250306\n"
     ]
    }
   ],
   "source": [
    "landa_mean_4, landa_error_4 = SimpleBlockBootstrap(landa_4)\n",
    "print (\"The mean obtained for landa is: \", landa_mean_4 , \"+-\", landa_error_4)"
   ]
  },
  {
   "cell_type": "code",
   "execution_count": 26,
   "metadata": {},
   "outputs": [
    {
     "name": "stdout",
     "output_type": "stream",
     "text": [
      "i =  2000   Size =  3936   Sum(W[i]) =  680.3018889098055   =>  landa[i] =  5.7856667226185455\r"
     ]
    }
   ],
   "source": [
    "b_r = 1.5477                           # Range parameter normalized to R: b_r = b / R (b_r has no units)\n",
    "b = b_r * R_t                          # Range paramter in cm\n",
    "Niter = 2000                            # Number of iterations in our calculation\n",
    "\n",
    "landa_0 = 15                           # Initial parameter that must be high enough to increase the point number\n",
    "Nthreshold = 4000                      # Threshold value for the number of R points to change landa_0 in the loop\n",
    "output = 1                             # Do you want to see more of the integration? Then set to 1\n",
    "\n",
    "landa_5 = GreenFunctionMonteCarlo(N, GaussianWell, b_r, landa_0, Niter, Nthreshold, output)\n",
    "np.savetxt(\"samples/landa_5\", landa_5)"
   ]
  },
  {
   "cell_type": "code",
   "execution_count": 27,
   "metadata": {},
   "outputs": [
    {
     "name": "stdout",
     "output_type": "stream",
     "text": [
      "The mean obtained for landa is:  5.429594656606738 +- 0.005975446811359913\n"
     ]
    }
   ],
   "source": [
    "landa_mean_5, landa_error_5 = SimpleBlockBootstrap(landa_5)\n",
    "print (\"The mean obtained for landa is: \", landa_mean_5 , \"+-\", landa_error_5)"
   ]
  },
  {
   "cell_type": "code",
   "execution_count": 33,
   "metadata": {},
   "outputs": [
    {
     "name": "stdout",
     "output_type": "stream",
     "text": [
      "i =  2000   Size =  16097   Sum(W[i]) =  4387.868458829727   =>  landa[i] =  3.66852382906053984\r"
     ]
    }
   ],
   "source": [
    "b_r = 2.                               # Range parameter normalized to R: b_r = b / R (b_r has no units)\n",
    "b = b_r * R_t                          # Range paramter in cm\n",
    "Niter = 2000                            # Number of iterations in our calculation\n",
    "\n",
    "landa_0 = 15                           # Initial parameter that must be high enough to increase the point number\n",
    "Nthreshold = 4000                      # Threshold value for the number of R points to change landa_0 in the loop\n",
    "output = 1                             # Do you want to see more of the integration? Then set to 1\n",
    "\n",
    "landa_6 = GreenFunctionMonteCarlo(N, GaussianWell, b_r, landa_0, Niter, Nthreshold, output)\n",
    "np.savetxt(\"samples/landa_6\", landa_6)"
   ]
  },
  {
   "cell_type": "code",
   "execution_count": 34,
   "metadata": {},
   "outputs": [
    {
     "name": "stdout",
     "output_type": "stream",
     "text": [
      "The mean obtained for landa is:  3.691479853969242 +- 0.0018211276644676032\n"
     ]
    }
   ],
   "source": [
    "landa_mean_6, landa_error_6 = SimpleBlockBootstrap(landa_6)\n",
    "print (\"The mean obtained for landa is: \", landa_mean_6 , \"+-\", landa_error_6)"
   ]
  },
  {
   "cell_type": "code",
   "execution_count": 47,
   "metadata": {},
   "outputs": [
    {
     "name": "stdout",
     "output_type": "stream",
     "text": [
      "i =  2000   Size =  11189   Sum(W[i]) =  666.9127073388718   =>  landa[i] =  16.777308149737577\r"
     ]
    }
   ],
   "source": [
    "b_r = 1.5477                           # Range parameter normalized to R: b_r = b / R (b_r has no units)\n",
    "b = b_r * R_t                          # Range paramter in cm\n",
    "Niter = 2000                            # Number of iterations in our calculation\n",
    "\n",
    "landa_0 = 80                           # Initial parameter that must be high enough to increase the point number\n",
    "Nthreshold = 4000                      # Threshold value for the number of R points to change landa_0 in the loop\n",
    "output = 1                             # Do you want to see more of the integration? Then set to 1\n",
    "\n",
    "landa_7 = GreenFunctionMonteCarlo(N, ExponentialWell, b_r, landa_0, Niter, Nthreshold, output)\n",
    "np.savetxt(\"samples/landa_7\", landa_7)"
   ]
  },
  {
   "cell_type": "code",
   "execution_count": 48,
   "metadata": {},
   "outputs": [
    {
     "name": "stdout",
     "output_type": "stream",
     "text": [
      "The mean obtained for landa is:  17.007717750980788 +- 0.01839503247690701\n"
     ]
    }
   ],
   "source": [
    "landa_mean_7, landa_error_7 = SimpleBlockBootstrap(landa_7)\n",
    "print (\"The mean obtained for landa is: \", landa_mean_7 , \"+-\", landa_error_7)"
   ]
  },
  {
   "cell_type": "code",
   "execution_count": 49,
   "metadata": {},
   "outputs": [
    {
     "name": "stdout",
     "output_type": "stream",
     "text": [
      "i =  2000   Size =  4732   Sum(W[i]) =  401.0340107281371   =>  landa[i] =  11.7994979812518847\r"
     ]
    }
   ],
   "source": [
    "b_r = 2.                           # Range parameter normalized to R: b_r = b / R (b_r has no units)\n",
    "b = b_r * R_t                          # Range paramter in cm\n",
    "Niter = 2000                            # Number of iterations in our calculation\n",
    "\n",
    "landa_0 = 20                           # Initial parameter that must be high enough to increase the point number\n",
    "Nthreshold = 4000                      # Threshold value for the number of R points to change landa_0 in the loop\n",
    "output = 1                             # Do you want to see more of the integration? Then set to 1\n",
    "\n",
    "landa_8 = GreenFunctionMonteCarlo(N, ExponentialWell, b_r, landa_0, Niter, Nthreshold, output)\n",
    "np.savetxt(\"samples/landa_8\", landa_8)"
   ]
  },
  {
   "cell_type": "code",
   "execution_count": 50,
   "metadata": {},
   "outputs": [
    {
     "name": "stdout",
     "output_type": "stream",
     "text": [
      "The mean obtained for landa is:  11.3636400499714 +- 0.013241740178376296\n"
     ]
    }
   ],
   "source": [
    "landa_mean_8, landa_error_8 = SimpleBlockBootstrap(landa_8)\n",
    "print (\"The mean obtained for landa is: \", landa_mean_8 , \"+-\", landa_error_8)"
   ]
  },
  {
   "cell_type": "code",
   "execution_count": 58,
   "metadata": {},
   "outputs": [
    {
     "name": "stdout",
     "output_type": "stream",
     "text": [
      "i =  2000   Size =  4806   Sum(W[i]) =  765.6192090551652   =>  landa[i] =  6.2772719690915085\r"
     ]
    }
   ],
   "source": [
    "b_r = 3.                           # Range parameter normalized to R: b_r = b / R (b_r has no units)\n",
    "b = b_r * R_t                          # Range paramter in cm\n",
    "Niter = 2000                            # Number of iterations in our calculation\n",
    "\n",
    "landa_0 = 30                           # Initial parameter that must be high enough to increase the point number\n",
    "Nthreshold = 4000                      # Threshold value for the number of R points to change landa_0 in the loop\n",
    "output = 1                             # Do you want to see more of the integration? Then set to 1\n",
    "\n",
    "landa_9 = GreenFunctionMonteCarlo(N, ExponentialWell, b_r, landa_0, Niter, Nthreshold, output)\n",
    "np.savetxt(\"samples/landa_9\", landa_9)"
   ]
  },
  {
   "cell_type": "code",
   "execution_count": 59,
   "metadata": {},
   "outputs": [
    {
     "name": "stdout",
     "output_type": "stream",
     "text": [
      "The mean obtained for landa is:  6.254592386394764 +- 0.006280239328839263\n"
     ]
    }
   ],
   "source": [
    "landa_mean_9, landa_error_9 = SimpleBlockBootstrap(landa_9)\n",
    "print (\"The mean obtained for landa is: \", landa_mean_9 , \"+-\", landa_error_9)"
   ]
  },
  {
   "cell_type": "code",
   "execution_count": 60,
   "metadata": {},
   "outputs": [
    {
     "name": "stdout",
     "output_type": "stream",
     "text": [
      "i =  2000   Size =  2977   Sum(W[i]) =  680.148663869247   =>  landa[i] =  4.37698426556389415 4.177380089203212 706.3222933400067   =>  landa[i] =  4.22753186209091\r"
     ]
    }
   ],
   "source": [
    "b_r = 4.                               # Range parameter normalized to R: b_r = b / R (b_r has no units)\n",
    "b = b_r * R_t                          # Range paramter in cm\n",
    "Niter = 2000                            # Number of iterations in our calculation\n",
    "\n",
    "landa_0 = 20                           # Initial parameter that must be high enough to increase the point number\n",
    "Nthreshold = 2000                      # Threshold value for the number of R points to change landa_0 in the loop\n",
    "output = 1                             # Do you want to see more of the integration? Then set to 1\n",
    "\n",
    "landa_10 = GreenFunctionMonteCarlo(N, ExponentialWell, b_r, landa_0, Niter, Nthreshold, output)\n",
    "np.savetxt(\"samples/landa_10\", landa_10)"
   ]
  },
  {
   "cell_type": "code",
   "execution_count": 61,
   "metadata": {},
   "outputs": [
    {
     "name": "stdout",
     "output_type": "stream",
     "text": [
      "The mean obtained for landa is:  4.280920834222923 +- 0.003933543639543439\n"
     ]
    }
   ],
   "source": [
    "landa_mean_10, landa_error_10 = SimpleBlockBootstrap(landa_10)\n",
    "print (\"The mean obtained for landa is: \", landa_mean_10 , \"+-\", landa_error_10)"
   ]
  },
  {
   "cell_type": "markdown",
   "metadata": {},
   "source": [
    "# Alpha Problem"
   ]
  },
  {
   "cell_type": "code",
   "execution_count": 13,
   "metadata": {},
   "outputs": [
    {
     "name": "stdout",
     "output_type": "stream",
     "text": [
      "8.5686896150253e-16\n"
     ]
    }
   ],
   "source": [
    "N = 4                                  # Number of Nuclei Particles\n",
    "B_a = 28.3                             # Binding energy of the Alpha particle in MeV\n",
    "c = 3e8                                # Speed of Light in m/s\n",
    "M = 938.272081                         # Mass of Proton in MeV/c²\n",
    "hbar = 6.5821196e-22                   # h bar constant in MeV*s\n",
    "R_a = hbar / (2*(M/c**2)*B_a)**(1/2)   # Unit of length in m"
   ]
  },
  {
   "cell_type": "code",
   "execution_count": 17,
   "metadata": {},
   "outputs": [
    {
     "name": "stdout",
     "output_type": "stream",
     "text": [
      "i =  2000   Size =  10928   Sum(W[i]) =  9098.0   =>  landa[i] =  1.20114310837546714\r"
     ]
    }
   ],
   "source": [
    "b_r = 2.                               # Range parameter normalized to R: b_r = b / R (b_r has no units)\n",
    "b = b_r * R_a                          # Range paramter in cm\n",
    "Niter = 2000                            # Number of iterations in our calculation\n",
    "\n",
    "landa_0 = 10                           # Initial parameter that must be high enough to increase the point number\n",
    "Nthreshold = 4000                      # Threshold value for the number of R points to change landa_0 in the loop\n",
    "output = 1                             # Do you want to see more of the integration? Then set to 1\n",
    "\n",
    "landa_11 = GreenFunctionMonteCarlo(N, SquaredWell, b_r, landa_0, Niter, Nthreshold, output)\n",
    "np.savetxt(\"samples/landa_11\", landa_11)"
   ]
  },
  {
   "cell_type": "code",
   "execution_count": 18,
   "metadata": {},
   "outputs": [
    {
     "name": "stdout",
     "output_type": "stream",
     "text": [
      "The mean obtained for landa is:  1.1673457400962015 +- 0.0007139779432270867\n"
     ]
    }
   ],
   "source": [
    "landa_mean_11, landa_error_11 = SimpleBlockBootstrap(landa_11)\n",
    "print (\"The mean obtained for landa is: \", landa_mean_11 , \"+-\", landa_error_11)"
   ]
  },
  {
   "cell_type": "code",
   "execution_count": 19,
   "metadata": {},
   "outputs": [
    {
     "name": "stdout",
     "output_type": "stream",
     "text": [
      "i =  2000   Size =  9219   Sum(W[i]) =  13867.0   =>  landa[i] =  0.66481574962140339\r"
     ]
    }
   ],
   "source": [
    "b_r = 3.                               # Range parameter normalized to R: b_r = b / R (b_r has no units)\n",
    "b = b_r * R_a                          # Range paramter in cm\n",
    "Niter = 2000                            # Number of iterations in our calculation\n",
    "\n",
    "landa_0 = 7                           # Initial parameter that must be high enough to increase the point number\n",
    "Nthreshold = 4000                      # Threshold value for the number of R points to change landa_0 in the loop\n",
    "output = 1                             # Do you want to see more of the integration? Then set to 1\n",
    "\n",
    "landa_12 = GreenFunctionMonteCarlo(N, SquaredWell, b_r, landa_0, Niter, Nthreshold, output)\n",
    "np.savetxt(\"samples/landa_12\", landa_12)"
   ]
  },
  {
   "cell_type": "code",
   "execution_count": 20,
   "metadata": {},
   "outputs": [
    {
     "name": "stdout",
     "output_type": "stream",
     "text": [
      "The mean obtained for landa is:  0.6660874921761697 +- 0.00035835684916510395\n"
     ]
    }
   ],
   "source": [
    "landa_mean_12, landa_error_12 = SimpleBlockBootstrap(landa_12)\n",
    "print (\"The mean obtained for landa is: \", landa_mean_12 , \"+-\", landa_error_12)"
   ]
  },
  {
   "cell_type": "code",
   "execution_count": 21,
   "metadata": {},
   "outputs": [
    {
     "name": "stdout",
     "output_type": "stream",
     "text": [
      "i =  2000   Size =  10390   Sum(W[i]) =  22036.0   =>  landa[i] =  0.47150117988745693\r"
     ]
    }
   ],
   "source": [
    "b_r = 4.                               # Range parameter normalized to R: b_r = b / R (b_r has no units)\n",
    "b = b_r * R_a                          # Range paramter in cm\n",
    "Niter = 2000                            # Number of iterations in our calculation\n",
    "\n",
    "landa_0 = 6                            # Initial parameter that must be high enough to increase the point number\n",
    "Nthreshold = 4000                      # Threshold value for the number of R points to change landa_0 in the loop\n",
    "output = 1                             # Do you want to see more of the integration? Then set to 1\n",
    "\n",
    "landa_13 = GreenFunctionMonteCarlo(N, SquaredWell, b_r, landa_0, Niter, Nthreshold, output)\n",
    "np.savetxt(\"samples/landa_13\", landa_13)"
   ]
  },
  {
   "cell_type": "code",
   "execution_count": 22,
   "metadata": {},
   "outputs": [
    {
     "name": "stdout",
     "output_type": "stream",
     "text": [
      "The mean obtained for landa is:  0.4750623060471473 +- 0.0001907455479605399\n"
     ]
    }
   ],
   "source": [
    "landa_mean_13, landa_error_13 = SimpleBlockBootstrap(landa_13)\n",
    "print (\"The mean obtained for landa is: \", landa_mean_13 , \"+-\", landa_error_13)"
   ]
  },
  {
   "cell_type": "code",
   "execution_count": 23,
   "metadata": {},
   "outputs": [
    {
     "name": "stdout",
     "output_type": "stream",
     "text": [
      "i =  2000   Size =  10216   Sum(W[i]) =  3921.1671137964254   =>  landa[i] =  2.6053467509853196\r"
     ]
    }
   ],
   "source": [
    "b_r = 2.                               # Range parameter normalized to R: b_r = b / R (b_r has no units)\n",
    "b = b_r * R_a                          # Range paramter in cm\n",
    "Niter = 2000                            # Number of iterations in our calculation\n",
    "\n",
    "landa_0 = 15                           # Initial parameter that must be high enough to increase the point number\n",
    "Nthreshold = 4000                      # Threshold value for the number of R points to change landa_0 in the loop\n",
    "output = 1                             # Do you want to see more of the integration? Then set to 1\n",
    "\n",
    "landa_14 = GreenFunctionMonteCarlo(N, GaussianWell, b_r, landa_0, Niter, Nthreshold, output)\n",
    "np.savetxt(\"samples/landa_14\", landa_14)"
   ]
  },
  {
   "cell_type": "code",
   "execution_count": 24,
   "metadata": {},
   "outputs": [
    {
     "name": "stdout",
     "output_type": "stream",
     "text": [
      "The mean obtained for landa is:  2.5290313622705063 +- 0.0028916494455416175\n"
     ]
    }
   ],
   "source": [
    "landa_mean_14, landa_error_14 = SimpleBlockBootstrap(landa_14)\n",
    "print (\"The mean obtained for landa is: \", landa_mean_14 , \"+-\", landa_error_14)"
   ]
  },
  {
   "cell_type": "code",
   "execution_count": 25,
   "metadata": {},
   "outputs": [
    {
     "name": "stdout",
     "output_type": "stream",
     "text": [
      "i =  2000   Size =  16880   Sum(W[i]) =  12068.563371939017   =>  landa[i] =  1.3986751761397052\r"
     ]
    }
   ],
   "source": [
    "b_r = 3.                               # Range parameter normalized to R: b_r = b / R (b_r has no units)\n",
    "b = b_r * R_a                          # Range paramter in cm\n",
    "Niter = 2000                            # Number of iterations in our calculation\n",
    "\n",
    "landa_0 = 12                           # Initial parameter that must be high enough to increase the point number\n",
    "Nthreshold = 4000                      # Threshold value for the number of R points to change landa_0 in the loop\n",
    "output = 1                             # Do you want to see more of the integration? Then set to 1\n",
    "\n",
    "landa_15 = GreenFunctionMonteCarlo(N, GaussianWell, b_r, landa_0, Niter, Nthreshold, output)\n",
    "np.savetxt(\"samples/landa_15\", landa_15)"
   ]
  },
  {
   "cell_type": "code",
   "execution_count": 26,
   "metadata": {},
   "outputs": [
    {
     "name": "stdout",
     "output_type": "stream",
     "text": [
      "The mean obtained for landa is:  1.398155415743561 +- 0.0008444572545444601\n"
     ]
    }
   ],
   "source": [
    "landa_mean_15, landa_error_15 = SimpleBlockBootstrap(landa_15)\n",
    "print (\"The mean obtained for landa is: \", landa_mean_15 , \"+-\", landa_error_15)"
   ]
  },
  {
   "cell_type": "code",
   "execution_count": 27,
   "metadata": {},
   "outputs": [
    {
     "name": "stdout",
     "output_type": "stream",
     "text": [
      "i =  2000   Size =  19267   Sum(W[i]) =  20034.452580824873   =>  landa[i] =  0.9616933590908591\r"
     ]
    }
   ],
   "source": [
    "b_r = 4.                               # Range parameter normalized to R: b_r = b / R (b_r has no units)\n",
    "b = b_r * R_a                          # Range paramter in cm\n",
    "Niter = 2000                            # Number of iterations in our calculation\n",
    "\n",
    "landa_0 = 10                           # Initial parameter that must be high enough to increase the point number\n",
    "Nthreshold = 4000                      # Threshold value for the number of R points to change landa_0 in the loop\n",
    "output = 1                             # Do you want to see more of the integration? Then set to 1\n",
    "\n",
    "landa_16 = GreenFunctionMonteCarlo(N, GaussianWell, b_r, landa_0, Niter, Nthreshold, output)\n",
    "np.savetxt(\"samples/landa_16\", landa_16)"
   ]
  },
  {
   "cell_type": "code",
   "execution_count": 28,
   "metadata": {},
   "outputs": [
    {
     "name": "stdout",
     "output_type": "stream",
     "text": [
      "The mean obtained for landa is:  0.9644195739384642 +- 0.0004629325188134587\n"
     ]
    }
   ],
   "source": [
    "landa_mean_16, landa_error_16 = SimpleBlockBootstrap(landa_16)\n",
    "print (\"The mean obtained for landa is: \", landa_mean_16 , \"+-\", landa_error_16)"
   ]
  },
  {
   "cell_type": "code",
   "execution_count": 10,
   "metadata": {},
   "outputs": [
    {
     "name": "stdout",
     "output_type": "stream",
     "text": [
      "i =  2000   Size =  10704   Sum(W[i]) =  1374.4878852555696   =>  landa[i] =  7.7876277519970425\r"
     ]
    }
   ],
   "source": [
    "b_r = 2.                               # Range parameter normalized to R: b_r = b / R (b_r has no units)\n",
    "b = b_r * R_a                          # Range paramter in cm\n",
    "Niter = 2000                            # Number of iterations in our calculation\n",
    "\n",
    "landa_0 = 30                           # Initial parameter that must be high enough to increase the point number\n",
    "Nthreshold = 5000                      # Threshold value for the number of R points to change landa_0 in the loop\n",
    "output = 1                             # Do you want to see more of the integration? Then set to 1\n",
    "\n",
    "landa_17 = GreenFunctionMonteCarlo(N, ExponentialWell, b_r, landa_0, Niter, Nthreshold, output)\n",
    "np.savetxt(\"samples/landa_17\", landa_17)"
   ]
  },
  {
   "cell_type": "code",
   "execution_count": 11,
   "metadata": {},
   "outputs": [
    {
     "name": "stdout",
     "output_type": "stream",
     "text": [
      "The mean obtained for landa is:  7.964816996734136 +- 0.011356251728254992\n"
     ]
    }
   ],
   "source": [
    "landa_mean_17, landa_error_17 = SimpleBlockBootstrap(landa_17)\n",
    "print (\"The mean obtained for landa is: \", landa_mean_17 , \"+-\", landa_error_17)"
   ]
  },
  {
   "cell_type": "code",
   "execution_count": 31,
   "metadata": {},
   "outputs": [
    {
     "name": "stdout",
     "output_type": "stream",
     "text": [
      "i =  2000   Size =  8237   Sum(W[i]) =  2024.037488841754   =>  landa[i] =  4.06958865406864885\r"
     ]
    }
   ],
   "source": [
    "b_r = 3.                               # Range parameter normalized to R: b_r = b / R (b_r has no units)\n",
    "b = b_r * R_a                          # Range paramter in cm\n",
    "Niter = 2000                            # Number of iterations in our calculation\n",
    "\n",
    "landa_0 = 19                           # Initial parameter that must be high enough to increase the point number\n",
    "Nthreshold = 4000                      # Threshold value for the number of R points to change landa_0 in the loop\n",
    "output = 1                             # Do you want to see more of the integration? Then set to 1\n",
    "\n",
    "landa_18 = GreenFunctionMonteCarlo(N, ExponentialWell, b_r, landa_0, Niter, Nthreshold, output)\n",
    "np.savetxt(\"samples/landa_18\", landa_18)"
   ]
  },
  {
   "cell_type": "code",
   "execution_count": 32,
   "metadata": {},
   "outputs": [
    {
     "name": "stdout",
     "output_type": "stream",
     "text": [
      "The mean obtained for landa is:  4.233542317459133 +- 0.005959812315999738\n"
     ]
    }
   ],
   "source": [
    "landa_mean_18, landa_error_18 = SimpleBlockBootstrap(landa_18)\n",
    "print (\"The mean obtained for landa is: \", landa_mean_18 , \"+-\", landa_error_18)"
   ]
  },
  {
   "cell_type": "code",
   "execution_count": 33,
   "metadata": {},
   "outputs": [
    {
     "name": "stdout",
     "output_type": "stream",
     "text": [
      "i =  2000   Size =  11402   Sum(W[i]) =  4133.779586551737   =>  landa[i] =  2.75825059398272775\r"
     ]
    }
   ],
   "source": [
    "b_r = 4.                               # Range parameter normalized to R: b_r = b / R (b_r has no units)\n",
    "b = b_r * R_a                          # Range paramter in cm\n",
    "Niter = 2000                            # Number of iterations in our calculation\n",
    "\n",
    "landa_0 = 17                           # Initial parameter that must be high enough to increase the point number\n",
    "Nthreshold = 4000                      # Threshold value for the number of R points to change landa_0 in the loop\n",
    "output = 1                             # Do you want to see more of the integration? Then set to 1\n",
    "\n",
    "landa_19 = GreenFunctionMonteCarlo(N, ExponentialWell, b_r, landa_0, Niter, Nthreshold, output)\n",
    "np.savetxt(\"samples/landa_19\", landa_19)"
   ]
  },
  {
   "cell_type": "code",
   "execution_count": 34,
   "metadata": {},
   "outputs": [
    {
     "name": "stdout",
     "output_type": "stream",
     "text": [
      "The mean obtained for landa is:  2.8140664793673387 +- 0.0026709484548488897\n"
     ]
    }
   ],
   "source": [
    "landa_mean_19, landa_error_19 = SimpleBlockBootstrap(landa_19)\n",
    "print (\"The mean obtained for landa is: \", landa_mean_19 , \"+-\", landa_error_19)"
   ]
  },
  {
   "cell_type": "markdown",
   "metadata": {},
   "source": [
    "# Deuteron Problem"
   ]
  },
  {
   "cell_type": "code",
   "execution_count": 14,
   "metadata": {},
   "outputs": [],
   "source": [
    "N = 2                                  # Number of Nuclei Particles\n",
    "B_d = 2.226                            # Binding energy of the Deuteron in MeV\n",
    "c = 2.998e+10                          # Speed of Light in cm/s\n",
    "M = 938.272081                         # Mass of Proton in MeV/c²\n",
    "hbar = 6.5821196e-22                   # h bar constant in MeV*s\n",
    "R_d = hbar / (2*(M/c**2)*B_d)**(1/2)   # Unit of length in cm"
   ]
  },
  {
   "cell_type": "code",
   "execution_count": 58,
   "metadata": {},
   "outputs": [
    {
     "name": "stdout",
     "output_type": "stream",
     "text": [
      "i =  2000   Size =  9770   Sum(W[i]) =  534.0   =>  landa[i] =  18.2958801498127357\r"
     ]
    }
   ],
   "source": [
    "b_r = 0.60                               # Range parameter normalized to R: b_r = b / R (b_r has no units)\n",
    "b = b_r * R_d                          # Range paramter in cm\n",
    "Niter = 2000                            # Number of iterations in our calculation\n",
    "\n",
    "landa_0 = 50                           # Initial parameter that must be high enough to increase the point number\n",
    "Nthreshold = 4000                      # Threshold value for the number of R points to change landa_0 in the loop\n",
    "output = 1                             # Do you want to see more of the integration? Then set to 1\n",
    "\n",
    "landa_20 = GreenFunctionMonteCarlo(N, SquaredWell, b_r, landa_0, Niter, Nthreshold, output)\n",
    "np.savetxt(\"samples/landa_20\", landa_20)"
   ]
  },
  {
   "cell_type": "code",
   "execution_count": 59,
   "metadata": {},
   "outputs": [
    {
     "name": "stdout",
     "output_type": "stream",
     "text": [
      "The mean obtained for landa is:  19.092677353542662 +- 0.01928719159366372\n"
     ]
    }
   ],
   "source": [
    "landa_mean_20, landa_error_20 = SimpleBlockBootstrap(landa_20)\n",
    "print (\"The mean obtained for landa is: \", landa_mean_20 , \"+-\", landa_error_20)"
   ]
  },
  {
   "cell_type": "code",
   "execution_count": 24,
   "metadata": {},
   "outputs": [
    {
     "name": "stdout",
     "output_type": "stream",
     "text": [
      "i =  2000   Size =  8438   Sum(W[i]) =  577.0   =>  landa[i] =  14.6239168110918543\r"
     ]
    }
   ],
   "source": [
    "b_r = 0.70                               # Range parameter normalized to R: b_r = b / R (b_r has no units)\n",
    "b = b_r * R_d                          # Range paramter in cm\n",
    "Niter = 2000                            # Number of iterations in our calculation\n",
    "\n",
    "landa_0 = 50                           # Initial parameter that must be high enough to increase the point number\n",
    "Nthreshold = 4000                      # Threshold value for the number of R points to change landa_0 in the loop\n",
    "output = 1                             # Do you want to see more of the integration? Then set to 1\n",
    "\n",
    "landa_21 = GreenFunctionMonteCarlo(N, SquaredWell, b_r, landa_0, Niter, Nthreshold, output)\n",
    "np.savetxt(\"samples/landa_21\", landa_21)"
   ]
  },
  {
   "cell_type": "code",
   "execution_count": 28,
   "metadata": {},
   "outputs": [
    {
     "name": "stdout",
     "output_type": "stream",
     "text": [
      "The mean obtained for landa is:  14.76968793383346 +- 0.013726797672911302\n"
     ]
    }
   ],
   "source": [
    "landa_mean_21, landa_error_21 = SimpleBlockBootstrap(landa_21)\n",
    "print (\"The mean obtained for landa is: \", landa_mean_21 , \"+-\", landa_error_21)"
   ]
  },
  {
   "cell_type": "code",
   "execution_count": 29,
   "metadata": {},
   "outputs": [
    {
     "name": "stdout",
     "output_type": "stream",
     "text": [
      "i =  2000   Size =  7574   Sum(W[i]) =  631.0   =>  landa[i] =  12.003169572107765\r"
     ]
    }
   ],
   "source": [
    "b_r = 0.80                               # Range parameter normalized to R: b_r = b / R (b_r has no units)\n",
    "b = b_r * R_d                          # Range paramter in cm\n",
    "Niter = 2000                            # Number of iterations in our calculation\n",
    "\n",
    "landa_0 = 50                           # Initial parameter that must be high enough to increase the point number\n",
    "Nthreshold = 4000                      # Threshold value for the number of R points to change landa_0 in the loop\n",
    "output = 1                             # Do you want to see more of the integration? Then set to 1\n",
    "\n",
    "landa_22 = GreenFunctionMonteCarlo(N, SquaredWell, b_r, landa_0, Niter, Nthreshold, output)\n",
    "np.savetxt(\"samples/landa_22\", landa_22)"
   ]
  },
  {
   "cell_type": "code",
   "execution_count": 30,
   "metadata": {},
   "outputs": [
    {
     "name": "stdout",
     "output_type": "stream",
     "text": [
      "The mean obtained for landa is:  11.90508520664355 +- 0.01063439168612866\n"
     ]
    }
   ],
   "source": [
    "landa_mean_22, landa_error_22 = SimpleBlockBootstrap(landa_22)\n",
    "print (\"The mean obtained for landa is: \", landa_mean_22 , \"+-\", landa_error_22)"
   ]
  },
  {
   "cell_type": "code",
   "execution_count": 31,
   "metadata": {},
   "outputs": [
    {
     "name": "stdout",
     "output_type": "stream",
     "text": [
      "i =  2000   Size =  6050   Sum(W[i]) =  576.0   =>  landa[i] =  10.503472222222221\r"
     ]
    }
   ],
   "source": [
    "b_r = 0.90                               # Range parameter normalized to R: b_r = b / R (b_r has no units)\n",
    "b = b_r * R_d                          # Range paramter in cm\n",
    "Niter = 2000                            # Number of iterations in our calculation\n",
    "\n",
    "landa_0 = 50                           # Initial parameter that must be high enough to increase the point number\n",
    "Nthreshold = 4000                      # Threshold value for the number of R points to change landa_0 in the loop\n",
    "output = 1                             # Do you want to see more of the integration? Then set to 1\n",
    "\n",
    "landa_23 = GreenFunctionMonteCarlo(N, SquaredWell, b_r, landa_0, Niter, Nthreshold, output)\n",
    "np.savetxt(\"samples/landa_23\", landa_23)"
   ]
  },
  {
   "cell_type": "code",
   "execution_count": 32,
   "metadata": {},
   "outputs": [
    {
     "name": "stdout",
     "output_type": "stream",
     "text": [
      "The mean obtained for landa is:  9.874018620719855 +- 0.009681199877093922\n"
     ]
    }
   ],
   "source": [
    "landa_mean_23, landa_error_23 = SimpleBlockBootstrap(landa_23)\n",
    "print (\"The mean obtained for landa is: \", landa_mean_23 , \"+-\", landa_error_23)"
   ]
  },
  {
   "cell_type": "code",
   "execution_count": 34,
   "metadata": {},
   "outputs": [
    {
     "name": "stdout",
     "output_type": "stream",
     "text": [
      "i =  2000   Size =  7942   Sum(W[i]) =  959.0   =>  landa[i] =  8.28154327424400445\r"
     ]
    }
   ],
   "source": [
    "b_r = 1.00                               # Range parameter normalized to R: b_r = b / R (b_r has no units)\n",
    "b = b_r * R_d                          # Range paramter in cm\n",
    "Niter = 2000                            # Number of iterations in our calculation\n",
    "\n",
    "landa_0 = 40                           # Initial parameter that must be high enough to increase the point number\n",
    "Nthreshold = 4000                      # Threshold value for the number of R points to change landa_0 in the loop\n",
    "output = 1                             # Do you want to see more of the integration? Then set to 1\n",
    "\n",
    "landa_24 = GreenFunctionMonteCarlo(N, SquaredWell, b_r, landa_0, Niter, Nthreshold, output)\n",
    "np.savetxt(\"samples/landa_24\", landa_24)"
   ]
  },
  {
   "cell_type": "code",
   "execution_count": 35,
   "metadata": {},
   "outputs": [
    {
     "name": "stdout",
     "output_type": "stream",
     "text": [
      "The mean obtained for landa is:  8.402893672693086 +- 0.00611715700503282\n"
     ]
    }
   ],
   "source": [
    "landa_mean_24, landa_error_24 = SimpleBlockBootstrap(landa_24)\n",
    "print (\"The mean obtained for landa is: \", landa_mean_24 , \"+-\", landa_error_24)"
   ]
  },
  {
   "cell_type": "code",
   "execution_count": 37,
   "metadata": {},
   "outputs": [
    {
     "name": "stdout",
     "output_type": "stream",
     "text": [
      "i =  2000   Size =  11325   Sum(W[i]) =  1553.0   =>  landa[i] =  7.2923374114616875\r"
     ]
    }
   ],
   "source": [
    "b_r = 1.10                               # Range parameter normalized to R: b_r = b / R (b_r has no units)\n",
    "b = b_r * R_d                          # Range paramter in cm\n",
    "Niter = 2000                            # Number of iterations in our calculation\n",
    "\n",
    "landa_0 = 40                           # Initial parameter that must be high enough to increase the point number\n",
    "Nthreshold = 4000                      # Threshold value for the number of R points to change landa_0 in the loop\n",
    "output = 1                             # Do you want to see more of the integration? Then set to 1\n",
    "\n",
    "landa_25 = GreenFunctionMonteCarlo(N, SquaredWell, b_r, landa_0, Niter, Nthreshold, output)\n",
    "np.savetxt(\"samples/landa_25\", landa_25)"
   ]
  },
  {
   "cell_type": "code",
   "execution_count": 38,
   "metadata": {},
   "outputs": [
    {
     "name": "stdout",
     "output_type": "stream",
     "text": [
      "The mean obtained for landa is:  7.287344622493155 +- 0.004261362894044726\n"
     ]
    }
   ],
   "source": [
    "landa_mean_25, landa_error_25 = SimpleBlockBootstrap(landa_25)\n",
    "print (\"The mean obtained for landa is: \", landa_mean_25 , \"+-\", landa_error_25)"
   ]
  },
  {
   "cell_type": "code",
   "execution_count": 39,
   "metadata": {},
   "outputs": [
    {
     "name": "stdout",
     "output_type": "stream",
     "text": [
      "i =  2000   Size =  7022   Sum(W[i]) =  1109.0   =>  landa[i] =  6.3318304779080255\r"
     ]
    }
   ],
   "source": [
    "b_r = 1.20                               # Range parameter normalized to R: b_r = b / R (b_r has no units)\n",
    "b = b_r * R_d                          # Range paramter in cm\n",
    "Niter = 2000                            # Number of iterations in our calculation\n",
    "\n",
    "landa_0 = 40                           # Initial parameter that must be high enough to increase the point number\n",
    "Nthreshold = 4000                      # Threshold value for the number of R points to change landa_0 in the loop\n",
    "output = 1                             # Do you want to see more of the integration? Then set to 1\n",
    "\n",
    "landa_26 = GreenFunctionMonteCarlo(N, SquaredWell, b_r, landa_0, Niter, Nthreshold, output)\n",
    "np.savetxt(\"samples/landa_26\", landa_26)"
   ]
  },
  {
   "cell_type": "code",
   "execution_count": 40,
   "metadata": {},
   "outputs": [
    {
     "name": "stdout",
     "output_type": "stream",
     "text": [
      "The mean obtained for landa is:  6.432713631920178 +- 0.004356581379531659\n"
     ]
    }
   ],
   "source": [
    "landa_mean_26, landa_error_26 = SimpleBlockBootstrap(landa_26)\n",
    "print (\"The mean obtained for landa is: \", landa_mean_26 , \"+-\", landa_error_26)"
   ]
  },
  {
   "cell_type": "code",
   "execution_count": 47,
   "metadata": {},
   "outputs": [
    {
     "name": "stdout",
     "output_type": "stream",
     "text": [
      "i =  2000   Size =  6309   Sum(W[i]) =  1115.0   =>  landa[i] =  5.6582959641255615\r"
     ]
    }
   ],
   "source": [
    "b_r = 1.30                               # Range parameter normalized to R: b_r = b / R (b_r has no units)\n",
    "b = b_r * R_d                          # Range paramter in cm\n",
    "Niter = 2000                            # Number of iterations in our calculation\n",
    "\n",
    "landa_0 = 35                           # Initial parameter that must be high enough to increase the point number\n",
    "Nthreshold = 4000                      # Threshold value for the number of R points to change landa_0 in the loop\n",
    "output = 1                             # Do you want to see more of the integration? Then set to 1\n",
    "\n",
    "landa_27 = GreenFunctionMonteCarlo(N, SquaredWell, b_r, landa_0, Niter, Nthreshold, output)\n",
    "np.savetxt(\"samples/landa_27\", landa_27)"
   ]
  },
  {
   "cell_type": "code",
   "execution_count": 48,
   "metadata": {},
   "outputs": [
    {
     "name": "stdout",
     "output_type": "stream",
     "text": [
      "The mean obtained for landa is:  5.742203216369093 +- 0.0037167741338083194\n"
     ]
    }
   ],
   "source": [
    "landa_mean_27, landa_error_27 = SimpleBlockBootstrap(landa_27)\n",
    "print (\"The mean obtained for landa is: \", landa_mean_27 , \"+-\", landa_error_27)"
   ]
  },
  {
   "cell_type": "code",
   "execution_count": 49,
   "metadata": {},
   "outputs": [
    {
     "name": "stdout",
     "output_type": "stream",
     "text": [
      "i =  2000   Size =  13503   Sum(W[i]) =  2540.0   =>  landa[i] =  5.3161417322834655\r"
     ]
    }
   ],
   "source": [
    "b_r = 1.40                               # Range parameter normalized to R: b_r = b / R (b_r has no units)\n",
    "b = b_r * R_d                          # Range paramter in cm\n",
    "Niter = 2000                            # Number of iterations in our calculation\n",
    "\n",
    "landa_0 = 35                           # Initial parameter that must be high enough to increase the point number\n",
    "Nthreshold = 4000                      # Threshold value for the number of R points to change landa_0 in the loop\n",
    "output = 1                             # Do you want to see more of the integration? Then set to 1\n",
    "\n",
    "landa_28 = GreenFunctionMonteCarlo(N, SquaredWell, b_r, landa_0, Niter, Nthreshold, output)\n",
    "np.savetxt(\"samples/landa_28\", landa_28)"
   ]
  },
  {
   "cell_type": "code",
   "execution_count": 50,
   "metadata": {},
   "outputs": [
    {
     "name": "stdout",
     "output_type": "stream",
     "text": [
      "The mean obtained for landa is:  5.187225502172589 +- 0.0023601331922740577\n"
     ]
    }
   ],
   "source": [
    "landa_mean_28, landa_error_28 = SimpleBlockBootstrap(landa_28)\n",
    "print (\"The mean obtained for landa is: \", landa_mean_28 , \"+-\", landa_error_28)"
   ]
  },
  {
   "cell_type": "code",
   "execution_count": 52,
   "metadata": {},
   "outputs": [
    {
     "name": "stdout",
     "output_type": "stream",
     "text": [
      "i =  2000   Size =  10252   Sum(W[i]) =  2181.0   =>  landa[i] =  4.7005960568546535\r"
     ]
    }
   ],
   "source": [
    "b_r = 1.50                               # Range parameter normalized to R: b_r = b / R (b_r has no units)\n",
    "b = b_r * R_d                          # Range paramter in cm\n",
    "Niter = 2000                            # Number of iterations in our calculation\n",
    "\n",
    "landa_0 = 30                           # Initial parameter that must be high enough to increase the point number\n",
    "Nthreshold = 4000                      # Threshold value for the number of R points to change landa_0 in the loop\n",
    "output = 1                             # Do you want to see more of the integration? Then set to 1\n",
    "\n",
    "landa_29 = GreenFunctionMonteCarlo(N, SquaredWell, b_r, landa_0, Niter, Nthreshold, output)\n",
    "np.savetxt(\"samples/landa_29\", landa_29)"
   ]
  },
  {
   "cell_type": "code",
   "execution_count": 53,
   "metadata": {},
   "outputs": [
    {
     "name": "stdout",
     "output_type": "stream",
     "text": [
      "The mean obtained for landa is:  4.733949447828076 +- 0.002066442766840494\n"
     ]
    }
   ],
   "source": [
    "landa_mean_29, landa_error_29 = SimpleBlockBootstrap(landa_29)\n",
    "print (\"The mean obtained for landa is: \", landa_mean_29 , \"+-\", landa_error_29)"
   ]
  },
  {
   "cell_type": "code",
   "execution_count": 56,
   "metadata": {},
   "outputs": [
    {
     "name": "stdout",
     "output_type": "stream",
     "text": [
      "i =  2000   Size =  8845   Sum(W[i]) =  2110.0   =>  landa[i] =  4.1919431279620865\r"
     ]
    }
   ],
   "source": [
    "b_r = 1.60                               # Range parameter normalized to R: b_r = b / R (b_r has no units)\n",
    "b = b_r * R_d                          # Range paramter in cm\n",
    "Niter = 2000                            # Number of iterations in our calculation\n",
    "\n",
    "landa_0 = 25                           # Initial parameter that must be high enough to increase the point number\n",
    "Nthreshold = 4000                      # Threshold value for the number of R points to change landa_0 in the loop\n",
    "output = 1                             # Do you want to see more of the integration? Then set to 1\n",
    "\n",
    "landa_30 = GreenFunctionMonteCarlo(N, SquaredWell, b_r, landa_0, Niter, Nthreshold, output)\n",
    "np.savetxt(\"samples/landa_30\", landa_30)"
   ]
  },
  {
   "cell_type": "code",
   "execution_count": 57,
   "metadata": {},
   "outputs": [
    {
     "name": "stdout",
     "output_type": "stream",
     "text": [
      "The mean obtained for landa is:  4.35188769802108 +- 0.001977563276393198\n"
     ]
    }
   ],
   "source": [
    "landa_mean_30, landa_error_30 = SimpleBlockBootstrap(landa_30)\n",
    "print (\"The mean obtained for landa is: \", landa_mean_30 , \"+-\", landa_error_30)"
   ]
  },
  {
   "cell_type": "code",
   "execution_count": 60,
   "metadata": {},
   "outputs": [
    {
     "name": "stdout",
     "output_type": "stream",
     "text": [
      "i =  2000   Size =  10061   Sum(W[i]) =  2440.0   =>  landa[i] =  4.1233606557377055\r"
     ]
    }
   ],
   "source": [
    "b_r = 1.70                               # Range parameter normalized to R: b_r = b / R (b_r has no units)\n",
    "b = b_r * R_d                          # Range paramter in cm\n",
    "Niter = 2000                            # Number of iterations in our calculation\n",
    "\n",
    "landa_0 = 50                           # Initial parameter that must be high enough to increase the point number\n",
    "Nthreshold = 4000                      # Threshold value for the number of R points to change landa_0 in the loop\n",
    "output = 1                             # Do you want to see more of the integration? Then set to 1\n",
    "\n",
    "landa_31 = GreenFunctionMonteCarlo(N, SquaredWell, b_r, landa_0, Niter, Nthreshold, output)\n",
    "np.savetxt(\"samples/landa_31\", landa_31)"
   ]
  },
  {
   "cell_type": "code",
   "execution_count": 61,
   "metadata": {},
   "outputs": [
    {
     "name": "stdout",
     "output_type": "stream",
     "text": [
      "The mean obtained for landa is:  4.028602313468484 +- 0.0016670345057177155\n"
     ]
    }
   ],
   "source": [
    "landa_mean_31, landa_error_31 = SimpleBlockBootstrap(landa_31)\n",
    "print (\"The mean obtained for landa is: \", landa_mean_31 , \"+-\", landa_error_31)"
   ]
  },
  {
   "cell_type": "code",
   "execution_count": 67,
   "metadata": {},
   "outputs": [
    {
     "name": "stdout",
     "output_type": "stream",
     "text": [
      "i =  2000   Size =  8692   Sum(W[i]) =  2274.0   =>  landa[i] =  3.8223394898856646\r"
     ]
    }
   ],
   "source": [
    "b_r = 1.80                               # Range parameter normalized to R: b_r = b / R (b_r has no units)\n",
    "b = b_r * R_d                          # Range paramter in cm\n",
    "Niter = 2000                            # Number of iterations in our calculation\n",
    "\n",
    "landa_0 = 45                           # Initial parameter that must be high enough to increase the point number\n",
    "Nthreshold = 4000                      # Threshold value for the number of R points to change landa_0 in the loop\n",
    "output = 1                             # Do you want to see more of the integration? Then set to 1\n",
    "\n",
    "landa_32 = GreenFunctionMonteCarlo(N, SquaredWell, b_r, landa_0, Niter, Nthreshold, output)\n",
    "np.savetxt(\"samples/landa_32\", landa_32)"
   ]
  },
  {
   "cell_type": "code",
   "execution_count": 68,
   "metadata": {},
   "outputs": [
    {
     "name": "stdout",
     "output_type": "stream",
     "text": [
      "The mean obtained for landa is:  3.757310552603073 +- 0.0018553557405516015\n"
     ]
    }
   ],
   "source": [
    "landa_mean_32, landa_error_32 = SimpleBlockBootstrap(landa_32)\n",
    "print (\"The mean obtained for landa is: \", landa_mean_32 , \"+-\", landa_error_32)"
   ]
  },
  {
   "cell_type": "code",
   "execution_count": 69,
   "metadata": {},
   "outputs": [
    {
     "name": "stdout",
     "output_type": "stream",
     "text": [
      "i =  2000   Size =  4738   Sum(W[i]) =  1331.0   =>  landa[i] =  3.5597295266716755\r"
     ]
    }
   ],
   "source": [
    "b_r = 1.90                               # Range parameter normalized to R: b_r = b / R (b_r has no units)\n",
    "b = b_r * R_d                          # Range paramter in cm\n",
    "Niter = 2000                            # Number of iterations in our calculation\n",
    "\n",
    "landa_0 = 37                           # Initial parameter that must be high enough to increase the point number\n",
    "Nthreshold = 4000                      # Threshold value for the number of R points to change landa_0 in the loop\n",
    "output = 1                             # Do you want to see more of the integration? Then set to 1\n",
    "\n",
    "landa_33 = GreenFunctionMonteCarlo(N, SquaredWell, b_r, landa_0, Niter, Nthreshold, output)\n",
    "np.savetxt(\"samples/landa_33\", landa_33)"
   ]
  },
  {
   "cell_type": "code",
   "execution_count": 70,
   "metadata": {},
   "outputs": [
    {
     "name": "stdout",
     "output_type": "stream",
     "text": [
      "The mean obtained for landa is:  3.5210474668447285 +- 0.0019512712147277708\n"
     ]
    }
   ],
   "source": [
    "landa_mean_33, landa_error_33 = SimpleBlockBootstrap(landa_33)\n",
    "print (\"The mean obtained for landa is: \", landa_mean_33 , \"+-\", landa_error_33)"
   ]
  },
  {
   "cell_type": "code",
   "execution_count": 72,
   "metadata": {},
   "outputs": [
    {
     "name": "stdout",
     "output_type": "stream",
     "text": [
      "i =  2000   Size =  4311   Sum(W[i]) =  1290.0   =>  landa[i] =  3.3418604651162797  =>  landa[i] =  3.3377265238879741215.0   =>  landa[i] =  3.280658436213992\r"
     ]
    }
   ],
   "source": [
    "b_r = 2.00                               # Range parameter normalized to R: b_r = b / R (b_r has no units)\n",
    "b = b_r * R_d                          # Range paramter in cm\n",
    "Niter = 2000                            # Number of iterations in our calculation\n",
    "\n",
    "landa_0 = 37                           # Initial parameter that must be high enough to increase the point number\n",
    "Nthreshold = 4000                      # Threshold value for the number of R points to change landa_0 in the loop\n",
    "output = 1                             # Do you want to see more of the integration? Then set to 1\n",
    "\n",
    "landa_34 = GreenFunctionMonteCarlo(N, SquaredWell, b_r, landa_0, Niter, Nthreshold, output)\n",
    "np.savetxt(\"samples/landa_34\", landa_34)"
   ]
  },
  {
   "cell_type": "code",
   "execution_count": 73,
   "metadata": {},
   "outputs": [
    {
     "name": "stdout",
     "output_type": "stream",
     "text": [
      "The mean obtained for landa is:  3.3209187530136406 +- 0.0019847407429793946\n"
     ]
    }
   ],
   "source": [
    "landa_mean_34, landa_error_34 = SimpleBlockBootstrap(landa_34)\n",
    "print (\"The mean obtained for landa is: \", landa_mean_34 , \"+-\", landa_error_34)"
   ]
  },
  {
   "cell_type": "code",
   "execution_count": 74,
   "metadata": {},
   "outputs": [
    {
     "name": "stdout",
     "output_type": "stream",
     "text": [
      "i =  2000   Size =  8280   Sum(W[i]) =  2613.0   =>  landa[i] =  3.1687715269804824\r"
     ]
    }
   ],
   "source": [
    "b_r = 2.10                               # Range parameter normalized to R: b_r = b / R (b_r has no units)\n",
    "b = b_r * R_d                          # Range paramter in cm\n",
    "Niter = 2000                            # Number of iterations in our calculation\n",
    "\n",
    "landa_0 = 37                           # Initial parameter that must be high enough to increase the point number\n",
    "Nthreshold = 4000                      # Threshold value for the number of R points to change landa_0 in the loop\n",
    "output = 1                             # Do you want to see more of the integration? Then set to 1\n",
    "\n",
    "landa_35 = GreenFunctionMonteCarlo(N, SquaredWell, b_r, landa_0, Niter, Nthreshold, output)\n",
    "np.savetxt(\"samples/landa_35\", landa_35)"
   ]
  },
  {
   "cell_type": "code",
   "execution_count": 75,
   "metadata": {},
   "outputs": [
    {
     "name": "stdout",
     "output_type": "stream",
     "text": [
      "The mean obtained for landa is:  3.137566522478333 +- 0.001286242224758743\n"
     ]
    }
   ],
   "source": [
    "landa_mean_35, landa_error_35 = SimpleBlockBootstrap(landa_35)\n",
    "print (\"The mean obtained for landa is: \", landa_mean_35 , \"+-\", landa_error_35)"
   ]
  },
  {
   "cell_type": "markdown",
   "metadata": {},
   "source": [
    "# ---------------------------------------------------------------------------------------------------------------------------------------"
   ]
  },
  {
   "cell_type": "code",
   "execution_count": 16,
   "metadata": {},
   "outputs": [],
   "source": [
    "var_holder = {}\n",
    " \n",
    "for i in range(19):\n",
    "    var_holder['landa_' + str(i+1)] = np.loadtxt(\"landa_\" + str(i+1))\n",
    " \n",
    "locals().update(var_holder)"
   ]
  },
  {
   "cell_type": "markdown",
   "metadata": {},
   "source": [
    "# Triton Plot Integration"
   ]
  },
  {
   "cell_type": "code",
   "execution_count": 10,
   "metadata": {},
   "outputs": [],
   "source": [
    "N = 3                                  # Number of Nuclei Particles\n",
    "B_t = 8.49                             # Binding energy of the Triton in MeV\n",
    "c = 2.998e+10                          # Speed of Light in cm/s\n",
    "M = 938.272081                         # Mass of Proton in MeV/c²\n",
    "hbar = 6.5821196e-22                   # h bar constant in MeV*s\n",
    "R_t = hbar / (2*(M/c**2)*B_t)**(1/2)   # Unit of length in cm"
   ]
  },
  {
   "cell_type": "markdown",
   "metadata": {},
   "source": [
    "## Squared Well"
   ]
  },
  {
   "cell_type": "code",
   "execution_count": 12,
   "metadata": {},
   "outputs": [],
   "source": [
    "np.savetxt(\"samples/triton_plot_squared_1\", landa_1)\n",
    "np.savetxt(\"samples/triton_plot_squared_2\", landa_2)\n",
    "np.savetxt(\"samples/triton_plot_squared_3\", landa_3)"
   ]
  },
  {
   "cell_type": "code",
   "execution_count": 16,
   "metadata": {},
   "outputs": [
    {
     "name": "stdout",
     "output_type": "stream",
     "text": [
      "i =  2000   Size =  8310   Sum(W[i]) =  6513.0   =>  landa[i] =  1.2759097190234914\r"
     ]
    }
   ],
   "source": [
    "b_r = 2.5                             # Range parameter normalized to R: b_r = b / R (b_r has no units)\n",
    "Niter = 2000                           # Number of iterations in our calculation\n",
    "\n",
    "landa_0 = 13                           # Initial parameter that must be high enough to increase the point number\n",
    "Nthreshold = 4000                      # Threshold value for the number of R points to change landa_0 in the loop\n",
    "output = 1                             # Do you want to see more of the integration? Then set to 1\n",
    "\n",
    "landa_1 = GreenFunctionMonteCarlo(N, SquaredWell, b_r, landa_0, Niter, Nthreshold, output)\n",
    "np.savetxt(\"samples/triton_plot_squared_4\", landa_1)"
   ]
  },
  {
   "cell_type": "code",
   "execution_count": 17,
   "metadata": {},
   "outputs": [
    {
     "name": "stdout",
     "output_type": "stream",
     "text": [
      "i =  2000   Size =  11966   Sum(W[i]) =  11600.0   =>  landa[i] =  1.0315517241379315\r"
     ]
    }
   ],
   "source": [
    "b_r = 3.                             # Range parameter normalized to R: b_r = b / R (b_r has no units)\n",
    "Niter = 2000                           # Number of iterations in our calculation\n",
    "\n",
    "landa_0 = 13                           # Initial parameter that must be high enough to increase the point number\n",
    "Nthreshold = 4000                      # Threshold value for the number of R points to change landa_0 in the loop\n",
    "output = 1                             # Do you want to see more of the integration? Then set to 1\n",
    "\n",
    "landa_1 = GreenFunctionMonteCarlo(N, SquaredWell, b_r, landa_0, Niter, Nthreshold, output)\n",
    "np.savetxt(\"samples/triton_plot_squared_5\", landa_1)"
   ]
  },
  {
   "cell_type": "code",
   "execution_count": 20,
   "metadata": {},
   "outputs": [
    {
     "name": "stdout",
     "output_type": "stream",
     "text": [
      "i =  2000   Size =  5748   Sum(W[i]) =  6423.0   =>  landa[i] =  0.8949089210649229\r"
     ]
    }
   ],
   "source": [
    "b_r = 3.5                             # Range parameter normalized to R: b_r = b / R (b_r has no units)\n",
    "Niter = 2000                           # Number of iterations in our calculation\n",
    "\n",
    "landa_0 = 10                           # Initial parameter that must be high enough to increase the point number\n",
    "Nthreshold = 4000                      # Thresholad value for the number of R points to change landa_0 in the loop\n",
    "output = 1                             # Do you want to see more of the integration? Then set to 1\n",
    "\n",
    "landa_1 = GreenFunctionMonteCarlo(N, SquaredWell, b_r, landa_0, Niter, Nthreshold, output)\n",
    "np.savetxt(\"samples/triton_plot_squared_6\", landa_1)"
   ]
  },
  {
   "cell_type": "code",
   "execution_count": 21,
   "metadata": {},
   "outputs": [
    {
     "name": "stdout",
     "output_type": "stream",
     "text": [
      "i =  2000   Size =  6901   Sum(W[i]) =  8912.0   =>  landa[i] =  0.77434919210053874\r"
     ]
    }
   ],
   "source": [
    "b_r = 4.                             # Range parameter normalized to R: b_r = b / R (b_r has no units)\n",
    "Niter = 2000                           # Number of iterations in our calculation\n",
    "\n",
    "landa_0 = 10                           # Initial parameter that must be high enough to increase the point number\n",
    "Nthreshold = 4000                      # Threshold value for the number of R points to change landa_0 in the loop\n",
    "output = 1                             # Do you want to see more of the integration? Then set to 1\n",
    "\n",
    "landa_1 = GreenFunctionMonteCarlo(N, SquaredWell, b_r, landa_0, Niter, Nthreshold, output)\n",
    "np.savetxt(\"samples/triton_plot_squared_7\", landa_1)"
   ]
  },
  {
   "cell_type": "code",
   "execution_count": 23,
   "metadata": {},
   "outputs": [
    {
     "name": "stdout",
     "output_type": "stream",
     "text": [
      "i =  2000   Size =  7235   Sum(W[i]) =  10325.0   =>  landa[i] =  0.7007263922518165\r"
     ]
    }
   ],
   "source": [
    "b_r = 4.5                             # Range parameter normalized to R: b_r = b / R (b_r has no units)\n",
    "Niter = 2000                           # Number of iterations in our calculation\n",
    "\n",
    "landa_0 = 9                           # Initial parameter that must be high enough to increase the point number\n",
    "Nthreshold = 4000                      # Threshold value for the number of R points to change landa_0 in the loop\n",
    "output = 1                             # Do you want to see more of the integration? Then set to 1\n",
    "\n",
    "landa_1 = GreenFunctionMonteCarlo(N, SquaredWell, b_r, landa_0, Niter, Nthreshold, output)\n",
    "np.savetxt(\"samples/triton_plot_squared_8\", landa_1)"
   ]
  },
  {
   "cell_type": "markdown",
   "metadata": {},
   "source": [
    "## Gaussian Well"
   ]
  },
  {
   "cell_type": "code",
   "execution_count": 24,
   "metadata": {},
   "outputs": [],
   "source": [
    "np.savetxt(\"samples/triton_plot_gaussian_1\", landa_4)\n",
    "np.savetxt(\"samples/triton_plot_gaussian_2\", landa_5)\n",
    "np.savetxt(\"samples/triton_plot_gaussian_3\", landa_6)"
   ]
  },
  {
   "cell_type": "code",
   "execution_count": 28,
   "metadata": {},
   "outputs": [
    {
     "name": "stdout",
     "output_type": "stream",
     "text": [
      "i =  2000   Size =  7843   Sum(W[i]) =  2880.129579714588   =>  landa[i] =  2.72314136670795897\r"
     ]
    }
   ],
   "source": [
    "b_r = 2.5                             # Range parameter normalized to R: b_r = b / R (b_r has no units)\n",
    "Niter = 2000                           # Number of iterations in our calculation\n",
    "\n",
    "landa_0 = 11                           # Initial parameter that must be high enough to increase the point number\n",
    "Nthreshold = 4000                      # Threshold value for the number of R points to change landa_0 in the loop\n",
    "output = 1                             # Do you want to see more of the integration? Then set to 1\n",
    "\n",
    "landa_1 = GreenFunctionMonteCarlo(N, GaussianWell, b_r, landa_0, Niter, Nthreshold, output)\n",
    "np.savetxt(\"samples/triton_plot_gaussian_4\", landa_1)"
   ]
  },
  {
   "cell_type": "code",
   "execution_count": 31,
   "metadata": {},
   "outputs": [
    {
     "name": "stdout",
     "output_type": "stream",
     "text": [
      "i =  2000   Size =  8898   Sum(W[i]) =  4119.7788847796755   =>  landa[i] =  2.1598246529378633\r"
     ]
    }
   ],
   "source": [
    "b_r = 3.                               # Range parameter normalized to R: b_r = b / R (b_r has no units)\n",
    "Niter = 2000                           # Number of iterations in our calculation\n",
    "\n",
    "landa_0 = 15                           # Initial parameter that must be high enough to increase the point number\n",
    "Nthreshold = 4000                      # Threshold value for the number of R points to change landa_0 in the loop\n",
    "output = 1                             # Do you want to see more of the integration? Then set to 1\n",
    "\n",
    "landa_1 = GreenFunctionMonteCarlo(N, GaussianWell, b_r, landa_0, Niter, Nthreshold, output)\n",
    "np.savetxt(\"samples/triton_plot_gaussian_5\", landa_1)"
   ]
  },
  {
   "cell_type": "code",
   "execution_count": 32,
   "metadata": {},
   "outputs": [
    {
     "name": "stdout",
     "output_type": "stream",
     "text": [
      "i =  2000   Size =  2735   Sum(W[i]) =  1518.287392489928   =>  landa[i] =  1.80137173866320153  Sum(W[i]) =  1647.1802072668595   =>  landa[i] =  1.7405502976247926\r"
     ]
    }
   ],
   "source": [
    "b_r = 3.5                              # Range parameter normalized to R: b_r = b / R (b_r has no units)\n",
    "Niter = 2000                           # Number of iterations in our calculation\n",
    "\n",
    "landa_0 = 13                           # Initial parameter that must be high enough to increase the point number\n",
    "Nthreshold = 4000                      # Threshold value for the number of R points to change landa_0 in the loop\n",
    "output = 1                             # Do you want to see more of the integration? Then set to 1\n",
    "\n",
    "landa_1 = GreenFunctionMonteCarlo(N, GaussianWell, b_r, landa_0, Niter, Nthreshold, output)\n",
    "np.savetxt(\"samples/triton_plot_gaussian_6\", landa_1)"
   ]
  },
  {
   "cell_type": "code",
   "execution_count": 35,
   "metadata": {},
   "outputs": [
    {
     "name": "stdout",
     "output_type": "stream",
     "text": [
      "i =  2000   Size =  8053   Sum(W[i]) =  5241.837463758105   =>  landa[i] =  1.53629334287417024\r"
     ]
    }
   ],
   "source": [
    "b_r = 4.                               # Range parameter normalized to R: b_r = b / R (b_r has no units)\n",
    "Niter = 2000                           # Number of iterations in our calculation\n",
    "\n",
    "landa_0 = 14                           # Initial parameter that must be high enough to increase the point number\n",
    "Nthreshold = 4000                      # Threshold value for the number of R points to change landa_0 in the loop\n",
    "output = 1                             # Do you want to see more of the integration? Then set to 1\n",
    "\n",
    "landa_1 = GreenFunctionMonteCarlo(N, GaussianWell, b_r, landa_0, Niter, Nthreshold, output)\n",
    "np.savetxt(\"samples/triton_plot_gaussian_7\", landa_1)"
   ]
  },
  {
   "cell_type": "code",
   "execution_count": 37,
   "metadata": {},
   "outputs": [
    {
     "name": "stdout",
     "output_type": "stream",
     "text": [
      "i =  2000   Size =  7645   Sum(W[i]) =  5582.743748545084   =>  landa[i] =  1.36939833607665778\r"
     ]
    }
   ],
   "source": [
    "b_r = 4.5                              # Range parameter normalized to R: b_r = b / R (b_r has no units)\n",
    "Niter = 2000                           # Number of iterations in our calculation\n",
    "\n",
    "landa_0 = 13                           # Initial parameter that must be high enough to increase the point number\n",
    "Nthreshold = 4000                      # Threshold value for the number of R points to change landa_0 in the loop\n",
    "output = 1                             # Do you want to see more of the integration? Then set to 1\n",
    "\n",
    "landa_1 = GreenFunctionMonteCarlo(N, GaussianWell, b_r, landa_0, Niter, Nthreshold, output)\n",
    "np.savetxt(\"samples/triton_plot_gaussian_8\", landa_1)"
   ]
  },
  {
   "cell_type": "markdown",
   "metadata": {},
   "source": [
    "## Exponential Well"
   ]
  },
  {
   "cell_type": "code",
   "execution_count": 47,
   "metadata": {},
   "outputs": [
    {
     "name": "stdout",
     "output_type": "stream",
     "text": [
      "i =  2000   Size =  9915   Sum(W[i]) =  465.1105242622157   =>  landa[i] =  21.31751375810669667\r"
     ]
    }
   ],
   "source": [
    "b_r = 1.35                             # Range parameter normalized to R: b_r = b / R (b_r has no units)\n",
    "Niter = 2000                           # Number of iterations in our calculation\n",
    "\n",
    "landa_0 = 80                           # Initial parameter that must be high enough to increase the point number\n",
    "Nthreshold = 4000                      # Threshold value for the number of R points to change landa_0 in the loop\n",
    "output = 1                             # Do you want to see more of the integration? Then set to 1\n",
    "\n",
    "landa_1 = GreenFunctionMonteCarlo(N, ExponentialWell, b_r, landa_0, Niter, Nthreshold, output)\n",
    "np.savetxt(\"samples/triton_plot_exponential_1\", landa_1)"
   ]
  },
  {
   "cell_type": "code",
   "execution_count": 48,
   "metadata": {},
   "outputs": [],
   "source": [
    "np.savetxt(\"samples/triton_plot_exponential_2\", landa_7)\n",
    "np.savetxt(\"samples/triton_plot_exponential_3\", landa_8)"
   ]
  },
  {
   "cell_type": "code",
   "execution_count": 53,
   "metadata": {},
   "outputs": [
    {
     "name": "stdout",
     "output_type": "stream",
     "text": [
      "i =  2000   Size =  7435   Sum(W[i]) =  942.2130693560237   =>  landa[i] =  7.8909964654614865\r"
     ]
    }
   ],
   "source": [
    "b_r = 2.5                             # Range parameter normalized to R: b_r = b / R (b_r has no units)\n",
    "Niter = 2000                           # Number of iterations in our calculation\n",
    "\n",
    "landa_0 = 37                           # Initial parameter that must be high enough to increase the point number\n",
    "Nthreshold = 4000                      # Threshold value for the number of R points to change landa_0 in the loop\n",
    "output = 1                             # Do you want to see more of the integration? Then set to 1\n",
    "\n",
    "landa_1 = GreenFunctionMonteCarlo(N, ExponentialWell, b_r, landa_0, Niter, Nthreshold, output)\n",
    "np.savetxt(\"samples/triton_plot_exponential_4\", landa_1)"
   ]
  },
  {
   "cell_type": "code",
   "execution_count": 54,
   "metadata": {},
   "outputs": [],
   "source": [
    "np.savetxt(\"samples/triton_plot_exponential_5\", landa_9)"
   ]
  },
  {
   "cell_type": "code",
   "execution_count": 56,
   "metadata": {},
   "outputs": [
    {
     "name": "stdout",
     "output_type": "stream",
     "text": [
      "i =  2000   Size =  13683   Sum(W[i]) =  2691.1881844254676   =>  landa[i] =  5.0843713119679655\r"
     ]
    }
   ],
   "source": [
    "b_r = 3.5                             # Range parameter normalized to R: b_r = b / R (b_r has no units)\n",
    "Niter = 2000                           # Number of iterations in our calculation\n",
    "\n",
    "landa_0 = 14                           # Initial parameter that must be high enough to increase the point number\n",
    "Nthreshold = 4000                      # Threshold value for the number of R points to change landa_0 in the loop\n",
    "output = 1                             # Do you want to see more of the integration? Then set to 1\n",
    "\n",
    "landa_1 = GreenFunctionMonteCarlo(N, ExponentialWell, b_r, landa_0, Niter, Nthreshold, output)\n",
    "np.savetxt(\"samples/triton_plot_exponential_6\", landa_1)"
   ]
  },
  {
   "cell_type": "code",
   "execution_count": 57,
   "metadata": {},
   "outputs": [],
   "source": [
    "np.savetxt(\"samples/triton_plot_exponential_7\", landa_10)"
   ]
  },
  {
   "cell_type": "code",
   "execution_count": 58,
   "metadata": {},
   "outputs": [
    {
     "name": "stdout",
     "output_type": "stream",
     "text": [
      "i =  2000   Size =  13371   Sum(W[i]) =  3645.885840858652   =>  landa[i] =  3.66742146727527857\r"
     ]
    }
   ],
   "source": [
    "b_r = 4.5                             # Range parameter normalized to R: b_r = b / R (b_r has no units)\n",
    "Niter = 2000                           # Number of iterations in our calculation\n",
    "\n",
    "landa_0 = 15                           # Initial parameter that must be high enough to increase the point number\n",
    "Nthreshold = 4000                      # Threshold value for the number of R points to change landa_0 in the loop\n",
    "output = 1                             # Do you want to see more of the integration? Then set to 1\n",
    "\n",
    "landa_1 = GreenFunctionMonteCarlo(N, ExponentialWell, b_r, landa_0, Niter, Nthreshold, output)\n",
    "np.savetxt(\"samples/triton_plot_exponential_8\", landa_1)"
   ]
  },
  {
   "cell_type": "markdown",
   "metadata": {},
   "source": [
    "# Alpha Plot Integration"
   ]
  },
  {
   "cell_type": "code",
   "execution_count": 8,
   "metadata": {},
   "outputs": [],
   "source": [
    "N = 4                                  # Number of Nuclei Particles\n",
    "B_a = 28.3                             # Binding energy of the Alpha particle in MeV\n",
    "c = 3e8                                # Speed of Light in m/s\n",
    "M = 938.272081                         # Mass of Proton in MeV/c²\n",
    "hbar = 6.5821196e-22                   # h bar constant in MeV*s\n",
    "R_a = hbar / (2*(M/c**2)*B_a)**(1/2)   # Unit of length in m"
   ]
  },
  {
   "cell_type": "markdown",
   "metadata": {},
   "source": [
    "## Squared Well"
   ]
  },
  {
   "cell_type": "code",
   "execution_count": 60,
   "metadata": {},
   "outputs": [
    {
     "name": "stdout",
     "output_type": "stream",
     "text": [
      "i =  2000   Size =  11034   Sum(W[i]) =  4876.0   =>  landa[i] =  2.2629204265791634\r"
     ]
    }
   ],
   "source": [
    "b_r = 1.35                             # Range parameter normalized to R: b_r = b / R (b_r has no units)\n",
    "Niter = 2000                           # Number of iterations in our calculation\n",
    "\n",
    "landa_0 = 13                           # Initial parameter that must be high enough to increase the point number\n",
    "Nthreshold = 4000                      # Threshold value for the number of R points to change landa_0 in the loop\n",
    "output = 1                             # Do you want to see more of the integration? Then set to 1\n",
    "\n",
    "landa_1 = GreenFunctionMonteCarlo(N, SquaredWell, b_r, landa_0, Niter, Nthreshold, output)\n",
    "np.savetxt(\"samples/alpha_plot_squared_1\", landa_1)"
   ]
  },
  {
   "cell_type": "code",
   "execution_count": 61,
   "metadata": {},
   "outputs": [
    {
     "name": "stdout",
     "output_type": "stream",
     "text": [
      "i =  2000   Size =  14396   Sum(W[i]) =  8447.0   =>  landa[i] =  1.7042737066414112\r"
     ]
    }
   ],
   "source": [
    "b_r = 1.5477                             # Range parameter normalized to R: b_r = b / R (b_r has no units)\n",
    "Niter = 2000                           # Number of iterations in our calculation\n",
    "\n",
    "landa_0 = 13                           # Initial parameter that must be high enough to increase the point number\n",
    "Nthreshold = 4000                      # Threshold value for the number of R points to change landa_0 in the loop\n",
    "output = 1                             # Do you want to see more of the integration? Then set to 1\n",
    "\n",
    "landa_1 = GreenFunctionMonteCarlo(N, SquaredWell, b_r, landa_0, Niter, Nthreshold, output)\n",
    "np.savetxt(\"samples/alpha_plot_squared_2\", landa_1)"
   ]
  },
  {
   "cell_type": "code",
   "execution_count": 62,
   "metadata": {},
   "outputs": [],
   "source": [
    "np.savetxt(\"samples/alpha_plot_squared_3\", landa_11)"
   ]
  },
  {
   "cell_type": "code",
   "execution_count": 68,
   "metadata": {},
   "outputs": [
    {
     "name": "stdout",
     "output_type": "stream",
     "text": [
      "i =  2000   Size =  12440   Sum(W[i]) =  14599.0   =>  landa[i] =  0.8521131584355093\r"
     ]
    }
   ],
   "source": [
    "b_r = 2.5                             # Range parameter normalized to R: b_r = b / R (b_r has no units)\n",
    "Niter = 2000                           # Number of iterations in our calculation\n",
    "\n",
    "landa_0 = 8                           # Initial parameter that must be high enough to increase the point number\n",
    "Nthreshold = 4000                      # Threshold value for the number of R points to change landa_0 in the loop\n",
    "output = 1                             # Do you want to see more of the integration? Then set to 1\n",
    "\n",
    "landa_1 = GreenFunctionMonteCarlo(N, SquaredWell, b_r, landa_0, Niter, Nthreshold, output)\n",
    "np.savetxt(\"samples/alpha_plot_squared_4\", landa_1)"
   ]
  },
  {
   "cell_type": "code",
   "execution_count": 69,
   "metadata": {},
   "outputs": [],
   "source": [
    "np.savetxt(\"samples/alpha_plot_squared_5\", landa_12)"
   ]
  },
  {
   "cell_type": "code",
   "execution_count": 14,
   "metadata": {},
   "outputs": [
    {
     "name": "stdout",
     "output_type": "stream",
     "text": [
      "i =  2000   Size =  7949   Sum(W[i]) =  14728.0   =>  landa[i] =  0.5397202607278653\r"
     ]
    }
   ],
   "source": [
    "b_r = 3.5                             # Range parameter normalized to R: b_r = b / R (b_r has no units)\n",
    "Niter = 2000                           # Number of iterations in our calculation\n",
    "\n",
    "landa_0 = 5.8                           # Initial parameter that must be high enough to increase the point number\n",
    "Nthreshold = 4000                      # Thresholad value for the number of R points to change landa_0 in the loop\n",
    "output = 1                             # Do you want to see more of the integration? Then set to 1\n",
    "\n",
    "landa_1 = GreenFunctionMonteCarlo(N, SquaredWell, b_r, landa_0, Niter, Nthreshold, output)\n",
    "np.savetxt(\"samples/alpha_plot_squared_6\", landa_1)"
   ]
  },
  {
   "cell_type": "code",
   "execution_count": 17,
   "metadata": {},
   "outputs": [],
   "source": [
    "np.savetxt(\"samples/alpha_plot_squared_7\", landa_13)"
   ]
  },
  {
   "cell_type": "code",
   "execution_count": 18,
   "metadata": {},
   "outputs": [
    {
     "name": "stdout",
     "output_type": "stream",
     "text": [
      "i =  2000   Size =  9341   Sum(W[i]) =  22495.0   =>  landa[i] =  0.41524783285174487\r"
     ]
    }
   ],
   "source": [
    "b_r = 4.5                             # Range parameter normalized to R: b_r = b / R (b_r has no units)\n",
    "Niter = 2000                           # Number of iterations in our calculation\n",
    "\n",
    "landa_0 = 5                           # Initial parameter that must be high enough to increase the point number\n",
    "Nthreshold = 4000                      # Threshold value for the number of R points to change landa_0 in the loop\n",
    "output = 1                             # Do you want to see more of the integration? Then set to 1\n",
    "\n",
    "landa_1 = GreenFunctionMonteCarlo(N, SquaredWell, b_r, landa_0, Niter, Nthreshold, output)\n",
    "np.savetxt(\"samples/alpha_plot_squared_8\", landa_1)"
   ]
  },
  {
   "cell_type": "markdown",
   "metadata": {},
   "source": [
    "## Gaussian Well"
   ]
  },
  {
   "cell_type": "code",
   "execution_count": 20,
   "metadata": {},
   "outputs": [
    {
     "name": "stdout",
     "output_type": "stream",
     "text": [
      "i =  2000   Size =  7377   Sum(W[i]) =  1584.6325532748376   =>  landa[i] =  4.6553379108327196\r"
     ]
    }
   ],
   "source": [
    "b_r = 1.35                             # Range parameter normalized to R: b_r = b / R (b_r has no units)\n",
    "Niter = 2000                           # Number of iterations in our calculation\n",
    "\n",
    "landa_0 = 12                           # Initial parameter that must be high enough to increase the point number\n",
    "Nthreshold = 4000                      # Threshold value for the number of R points to change landa_0 in the loop\n",
    "output = 1                             # Do you want to see more of the integration? Then set to 1\n",
    "\n",
    "landa_1 = GreenFunctionMonteCarlo(N, GaussianWell, b_r, landa_0, Niter, Nthreshold, output)\n",
    "np.savetxt(\"samples/alpha_plot_gaussian_1\", landa_1)"
   ]
  },
  {
   "cell_type": "code",
   "execution_count": 28,
   "metadata": {},
   "outputs": [
    {
     "name": "stdout",
     "output_type": "stream",
     "text": [
      "i =  2000   Size =  11106   Sum(W[i]) =  2887.35734415585   =>  landa[i] =  3.846423797345028445\r"
     ]
    }
   ],
   "source": [
    "b_r = 1.5477                             # Range parameter normalized to R: b_r = b / R (b_r has no units)\n",
    "Niter = 2000                           # Number of iterations in our calculation\n",
    "\n",
    "landa_0 = 12.5                           # Initial parameter that must be high enough to increase the point number\n",
    "Nthreshold = 4000                      # Threshold value for the number of R points to change landa_0 in the loop\n",
    "output = 1                             # Do you want to see more of the integration? Then set to 1\n",
    "\n",
    "landa_1 = GreenFunctionMonteCarlo(N, GaussianWell, b_r, landa_0, Niter, Nthreshold, output)\n",
    "np.savetxt(\"samples/alpha_plot_gaussian_2\", landa_1)"
   ]
  },
  {
   "cell_type": "code",
   "execution_count": 29,
   "metadata": {},
   "outputs": [],
   "source": [
    "np.savetxt(\"samples/alpha_plot_gaussian_3\", landa_14)"
   ]
  },
  {
   "cell_type": "code",
   "execution_count": 30,
   "metadata": {},
   "outputs": [
    {
     "name": "stdout",
     "output_type": "stream",
     "text": [
      "i =  2000   Size =  6968   Sum(W[i]) =  3754.6657004872923   =>  landa[i] =  1.8558243411911934\r"
     ]
    }
   ],
   "source": [
    "b_r = 2.5                             # Range parameter normalized to R: b_r = b / R (b_r has no units)\n",
    "Niter = 2000                           # Number of iterations in our calculation\n",
    "\n",
    "landa_0 = 11                           # Initial parameter that must be high enough to increase the point number\n",
    "Nthreshold = 4000                      # Threshold value for the number of R points to change landa_0 in the loop\n",
    "output = 1                             # Do you want to see more of the integration? Then set to 1\n",
    "\n",
    "landa_1 = GreenFunctionMonteCarlo(N, GaussianWell, b_r, landa_0, Niter, Nthreshold, output)\n",
    "np.savetxt(\"samples/alpha_plot_gaussian_4\", landa_1)"
   ]
  },
  {
   "cell_type": "code",
   "execution_count": 31,
   "metadata": {},
   "outputs": [],
   "source": [
    "np.savetxt(\"samples/alpha_plot_gaussian_5\", landa_15)"
   ]
  },
  {
   "cell_type": "code",
   "execution_count": 33,
   "metadata": {},
   "outputs": [
    {
     "name": "stdout",
     "output_type": "stream",
     "text": [
      "i =  2000   Size =  9926   Sum(W[i]) =  8793.520908030756   =>  landa[i] =  1.128785625668439434\r"
     ]
    }
   ],
   "source": [
    "b_r = 3.5                             # Range parameter normalized to R: b_r = b / R (b_r has no units)\n",
    "Niter = 2000                           # Number of iterations in our calculation\n",
    "\n",
    "landa_0 = 9.5                           # Initial parameter that must be high enough to increase the point number\n",
    "Nthreshold = 4000                      # Thresholad value for the number of R points to change landa_0 in the loop\n",
    "output = 1                             # Do you want to see more of the integration? Then set to 1\n",
    "\n",
    "landa_1 = GreenFunctionMonteCarlo(N, GaussianWell, b_r, landa_0, Niter, Nthreshold, output)\n",
    "np.savetxt(\"samples/alpha_plot_gaussian_6\", landa_1)"
   ]
  },
  {
   "cell_type": "code",
   "execution_count": 34,
   "metadata": {},
   "outputs": [],
   "source": [
    "np.savetxt(\"samples/alpha_plot_gaussian_7\", landa_16)"
   ]
  },
  {
   "cell_type": "code",
   "execution_count": 37,
   "metadata": {},
   "outputs": [
    {
     "name": "stdout",
     "output_type": "stream",
     "text": [
      "i =  2000   Size =  5864   Sum(W[i]) =  6890.048636561134   =>  landa[i] =  0.85108252630953254\r"
     ]
    }
   ],
   "source": [
    "b_r = 4.5                             # Range parameter normalized to R: b_r = b / R (b_r has no units)\n",
    "Niter = 2000                           # Number of iterations in our calculation\n",
    "\n",
    "landa_0 = 7                           # Initial parameter that must be high enough to increase the point number\n",
    "Nthreshold = 4000                      # Threshold value for the number of R points to change landa_0 in the loop\n",
    "output = 1                             # Do you want to see more of the integration? Then set to 1\n",
    "\n",
    "landa_1 = GreenFunctionMonteCarlo(N, GaussianWell, b_r, landa_0, Niter, Nthreshold, output)\n",
    "np.savetxt(\"samples/alpha_plot_gaussian_8\", landa_1)"
   ]
  },
  {
   "cell_type": "markdown",
   "metadata": {},
   "source": [
    "## Exponential Well"
   ]
  },
  {
   "cell_type": "code",
   "execution_count": 41,
   "metadata": {},
   "outputs": [
    {
     "name": "stdout",
     "output_type": "stream",
     "text": [
      "i =  2000   Size =  7767   Sum(W[i]) =  486.92556154165123   =>  landa[i] =  15.951103440552519\r"
     ]
    }
   ],
   "source": [
    "b_r = 1.35                             # Range parameter normalized to R: b_r = b / R (b_r has no units)\n",
    "Niter = 2000                           # Number of iterations in our calculation\n",
    "\n",
    "landa_0 = 50                           # Initial parameter that must be high enough to increase the point number\n",
    "Nthreshold = 4000                      # Threshold value for the number of R points to change landa_0 in the loop\n",
    "output = 1                             # Do you want to see more of the integration? Then set to 1\n",
    "\n",
    "landa_1 = GreenFunctionMonteCarlo(N, ExponentialWell, b_r, landa_0, Niter, Nthreshold, output)\n",
    "np.savetxt(\"samples/alpha_plot_exponential_1\", landa_1)"
   ]
  },
  {
   "cell_type": "code",
   "execution_count": 42,
   "metadata": {},
   "outputs": [
    {
     "name": "stdout",
     "output_type": "stream",
     "text": [
      "i =  2000   Size =  5711   Sum(W[i]) =  462.7869659337984   =>  landa[i] =  12.3404512667648411\r"
     ]
    }
   ],
   "source": [
    "b_r = 1.5477                             # Range parameter normalized to R: b_r = b / R (b_r has no units)\n",
    "Niter = 2000                           # Number of iterations in our calculation\n",
    "\n",
    "landa_0 = 20                           # Initial parameter that must be high enough to increase the point number\n",
    "Nthreshold = 4000                      # Threshold value for the number of R points to change landa_0 in the loop\n",
    "output = 1                             # Do you want to see more of the integration? Then set to 1\n",
    "\n",
    "landa_1 = GreenFunctionMonteCarlo(N, ExponentialWell, b_r, landa_0, Niter, Nthreshold, output)\n",
    "np.savetxt(\"samples/alpha_plot_exponential_2\", landa_1)"
   ]
  },
  {
   "cell_type": "code",
   "execution_count": 43,
   "metadata": {},
   "outputs": [],
   "source": [
    "np.savetxt(\"samples/alpha_plot_exponential_3\", landa_17)"
   ]
  },
  {
   "cell_type": "code",
   "execution_count": 53,
   "metadata": {},
   "outputs": [
    {
     "name": "stdout",
     "output_type": "stream",
     "text": [
      "i =  2000   Size =  9284   Sum(W[i]) =  1660.7473332755758   =>  landa[i] =  5.59025434753443155\r"
     ]
    }
   ],
   "source": [
    "b_r = 2.5                             # Range parameter normalized to R: b_r = b / R (b_r has no units)\n",
    "Niter = 2000                           # Number of iterations in our calculation\n",
    "\n",
    "landa_0 = 13                           # Initial parameter that must be high enough to increase the point number\n",
    "Nthreshold = 10000                      # Threshold value for the number of R points to change landa_0 in the loop\n",
    "output = 1                             # Do you want to see more of the integration? Then set to 1\n",
    "\n",
    "landa_1 = GreenFunctionMonteCarlo(N, ExponentialWell, b_r, landa_0, Niter, Nthreshold, output)\n",
    "np.savetxt(\"samples/alpha_plot_exponential_4\", landa_1)"
   ]
  },
  {
   "cell_type": "code",
   "execution_count": 45,
   "metadata": {},
   "outputs": [],
   "source": [
    "np.savetxt(\"samples/alpha_plot_exponential_5\", landa_18)"
   ]
  },
  {
   "cell_type": "code",
   "execution_count": 46,
   "metadata": {},
   "outputs": [
    {
     "name": "stdout",
     "output_type": "stream",
     "text": [
      "i =  2000   Size =  4254   Sum(W[i]) =  1254.1111001424608   =>  landa[i] =  3.3920439740281116\r"
     ]
    }
   ],
   "source": [
    "b_r = 3.5                             # Range parameter normalized to R: b_r = b / R (b_r has no units)\n",
    "Niter = 2000                           # Number of iterations in our calculation\n",
    "\n",
    "landa_0 = 14                           # Initial parameter that must be high enough to increase the point number\n",
    "Nthreshold = 4000                      # Thresholad value for the number of R points to change landa_0 in the loop\n",
    "output = 1                             # Do you want to see more of the integration? Then set to 1\n",
    "\n",
    "landa_1 = GreenFunctionMonteCarlo(N, ExponentialWell, b_r, landa_0, Niter, Nthreshold, output)\n",
    "np.savetxt(\"samples/alpha_plot_exponential_6\", landa_1)"
   ]
  },
  {
   "cell_type": "code",
   "execution_count": 54,
   "metadata": {},
   "outputs": [],
   "source": [
    "np.savetxt(\"samples/alpha_plot_exponential_7\", landa_19)"
   ]
  },
  {
   "cell_type": "code",
   "execution_count": 61,
   "metadata": {},
   "outputs": [
    {
     "name": "stdout",
     "output_type": "stream",
     "text": [
      "i =  2000   Size =  8363   Sum(W[i]) =  3376.443339655511   =>  landa[i] =  2.47686667854857455\r"
     ]
    }
   ],
   "source": [
    "b_r = 4.5                             # Range parameter normalized to R: b_r = b / R (b_r has no units)\n",
    "Niter = 2000                           # Number of iterations in our calculation\n",
    "\n",
    "landa_0 = 7.5                          # Initial parameter that must be high enough to increase the point number\n",
    "Nthreshold = 7000                      # Threshold value for the number of R points to change landa_0 in the loop\n",
    "output = 1                             # Do you want to see more of the integration? Then set to 1\n",
    "\n",
    "landa_1 = GreenFunctionMonteCarlo(N, ExponentialWell, b_r, landa_0, Niter, Nthreshold, output)\n",
    "np.savetxt(\"samples/alpha_plot_exponential_8\", landa_1)"
   ]
  },
  {
   "cell_type": "code",
   "execution_count": null,
   "metadata": {},
   "outputs": [],
   "source": []
  }
 ],
 "metadata": {
  "kernelspec": {
   "display_name": "Python 3",
   "language": "python",
   "name": "python3"
  },
  "language_info": {
   "codemirror_mode": {
    "name": "ipython",
    "version": 3
   },
   "file_extension": ".py",
   "mimetype": "text/x-python",
   "name": "python",
   "nbconvert_exporter": "python",
   "pygments_lexer": "ipython3",
   "version": "3.7.6"
  }
 },
 "nbformat": 4,
 "nbformat_minor": 4
}
